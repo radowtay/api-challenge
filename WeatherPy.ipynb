{
 "cells": [
  {
   "cell_type": "markdown",
   "metadata": {},
   "source": [
    "# WeatherPy\n",
    "----\n",
    "\n",
    "#### Note\n",
    "* Instructions have been included for each segment. You do not have to follow them exactly, but they are included to help you think through the steps."
   ]
  },
  {
   "cell_type": "code",
   "execution_count": null,
   "metadata": {},
   "outputs": [],
   "source": []
  },
  {
   "cell_type": "code",
   "execution_count": 1,
   "metadata": {
    "scrolled": true
   },
   "outputs": [],
   "source": [
    "# Dependencies and Setup\n",
    "import matplotlib.pyplot as plt\n",
    "import pandas as pd\n",
    "import numpy as np\n",
    "import requests\n",
    "import time\n",
    "from scipy.stats import linregress\n",
    "\n",
    "# Import API key\n",
    "from api_keys import weather_api_key\n",
    "\n",
    "# Incorporated citipy to determine city based on latitude and longitude\n",
    "from citipy import citipy\n",
    "\n",
    "# Output File (CSV)\n",
    "output_data_file = \"output_data/cities.csv\"\n",
    "\n",
    "# Range of latitudes and longitudes\n",
    "lat_range = (-90, 90)\n",
    "lng_range = (-180, 180)"
   ]
  },
  {
   "cell_type": "markdown",
   "metadata": {},
   "source": [
    "## Generate Cities List"
   ]
  },
  {
   "cell_type": "code",
   "execution_count": 2,
   "metadata": {},
   "outputs": [
    {
     "data": {
      "text/plain": [
       "590"
      ]
     },
     "execution_count": 2,
     "metadata": {},
     "output_type": "execute_result"
    }
   ],
   "source": [
    "# List for holding lat_lngs and cities\n",
    "lat_lngs = []\n",
    "cities = []\n",
    "\n",
    "# Create a set of random lat and lng combinations\n",
    "lats = np.random.uniform(lat_range[0], lat_range[1], size=1500)\n",
    "lngs = np.random.uniform(lng_range[0], lng_range[1], size=1500)\n",
    "lat_lngs = zip(lats, lngs)\n",
    "\n",
    "# Identify nearest city for each lat, lng combination\n",
    "for lat_lng in lat_lngs:\n",
    "    city = citipy.nearest_city(lat_lng[0], lat_lng[1]).city_name\n",
    "    \n",
    "    # If the city is unique, then add it to a our cities list\n",
    "    if city not in cities:\n",
    "        cities.append(city)\n",
    "\n",
    "# Print the city count to confirm sufficient count\n",
    "len(cities)"
   ]
  },
  {
   "cell_type": "markdown",
   "metadata": {},
   "source": [
    "### Perform API Calls\n",
    "* Perform a weather check on each city using a series of successive API calls.\n",
    "* Include a print log of each city as it'sbeing processed (with the city number and city name).\n",
    "\n",
    "> **HINT:** The OpenWeatherMap API only allows 60 calls per minute under their free plan. Try using `time.sleep(60)` after each set of 50 cities to avoid API errors due to large calls."
   ]
  },
  {
   "cell_type": "code",
   "execution_count": 3,
   "metadata": {
    "scrolled": true
   },
   "outputs": [],
   "source": [
    "url=\"http://api.openweathermap.org/data/2.5/weather?\"\n",
    "query_url = url+ \"appid=\" + weather_api_key+\"&q=\"\n",
    "\n",
    "# response=requests.get(query_url)\n",
    "# response.json()\n"
   ]
  },
  {
   "cell_type": "code",
   "execution_count": 4,
   "metadata": {},
   "outputs": [],
   "source": [
    "\n",
    "city_name=[]\n",
    "lat=[]\n",
    "lon=[]\n",
    "max_temp=[]\n",
    "humidity=[]\n",
    "clouds=[]\n",
    "wind_speed=[]\n",
    "country=[]\n",
    "date=[]\n",
    "counter=1\n",
    "#Tutor said not to use counter method but I can't get it to work any other way."
   ]
  },
  {
   "cell_type": "code",
   "execution_count": 62,
   "metadata": {},
   "outputs": [],
   "source": [
    "# response=requests.get(url+ \"appid=\" + weather_api_key+\"&q=\"+cities[0]).json()\n",
    "\n",
    "# response\n"
   ]
  },
  {
   "cell_type": "code",
   "execution_count": 63,
   "metadata": {},
   "outputs": [],
   "source": [
    "# if (response['cod'] != '404'):\n",
    "#     max_temp.append(response[\"main\"][\"temp_max\"])\n",
    "#     humidity.append(response[\"main\"][\"humidity\"])\n",
    "#     clouds.append(response[\"clouds\"][\"all\"])\n",
    "#     wind_speed.append(response[\"wind\"][\"speed\"])\n",
    "#     country.append(response['sys'][\"country\"])\n",
    "#     date.append(response['dt'])\n",
    "\n",
    "\n",
    "# print(max_temp)\n",
    "# print(humidity)\n",
    "# print(clouds)\n",
    "# print(wind_speed)\n",
    "# print(country)\n",
    "# print(date)"
   ]
  },
  {
   "cell_type": "code",
   "execution_count": 6,
   "metadata": {},
   "outputs": [
    {
     "name": "stdout",
     "output_type": "stream",
     "text": [
      "Returned City 1: East London.\n",
      "Returned City 2: Punta Arenas.\n",
      "Returned City 3: Hobart.\n",
      "Returned City 4: Esperance.\n",
      "Returned City 5: Dunedin.\n",
      "Returned City 6: Mar del Plata.\n",
      "Returned City 7: Āsosa.\n",
      "Returned City 8: Gram.\n",
      "Returned City 9: Dalbandin.\n",
      "Returned City 10: Honiara.\n",
      "Returned City 11: Payakumbuh.\n",
      "Returned City 12: Rikitea.\n",
      "Returned City 13: George Town.\n",
      "Returned City 14: Kapaa.\n",
      "Returned City 15: Peniche.\n",
      "Returned City 16: Ponta do Sol.\n",
      "Returned City 17: Gravelbourg.\n",
      "Returned City 18: Darhan.\n",
      "Returned City 19: Hermanus.\n",
      "Returned City 20: Nemuro.\n",
      "city not found...\n",
      "Returned City 21: Arraial do Cabo.\n",
      "Returned City 22: Hong Kong.\n",
      "Returned City 23: Qaanaaq.\n",
      "Returned City 24: Tautira.\n",
      "Returned City 25: Puerto Ayora.\n",
      "Returned City 26: Avarua.\n",
      "Returned City 27: Ushuaia.\n",
      "Returned City 28: Ayr.\n",
      "Returned City 29: Tasiilaq.\n",
      "Returned City 30: Juneau.\n",
      "Returned City 31: Port Elizabeth.\n",
      "Returned City 32: Kahului.\n",
      "Returned City 33: Hilo.\n",
      "Returned City 34: Busselton.\n",
      "Returned City 35: Urla.\n",
      "Returned City 36: Sørland.\n",
      "Returned City 37: Rawson.\n",
      "Returned City 38: Lebu.\n",
      "Returned City 39: Najrān.\n",
      "Returned City 40: Albany.\n",
      "Returned City 41: Lata.\n",
      "Returned City 42: Bluff.\n",
      "Returned City 43: Puerto del Rosario.\n",
      "Returned City 44: Butaritari.\n",
      "Returned City 45: Leningradskiy.\n",
      "Returned City 46: Touros.\n",
      "Returned City 47: Thompson.\n",
      "Returned City 48: Taoudenni.\n",
      "Returned City 49: Sayyan.\n",
      "Returned City 50: Road Town.\n",
      "Returned City 51: Toamasina.\n",
      "Returned City 52: San-Pédro.\n",
      "Returned City 53: Faanui.\n",
      "Returned City 54: Jamestown.\n",
      "Returned City 55: Auray.\n",
      "city not found...\n",
      "Returned City 56: Zyryanskoye.\n",
      "Returned City 57: Ambunti.\n",
      "Returned City 58: Bambous Virieux.\n",
      "Returned City 59: Mataura.\n",
      "Returned City 60: Sisimiut.\n",
      "Returned City 61: Racine.\n",
      "Returned City 62: Atuona.\n",
      "Returned City 63: Solnice.\n",
      "Returned City 64: Pevek.\n",
      "Returned City 65: Bredasdorp.\n",
      "Returned City 66: Saldanha.\n",
      "Returned City 67: Grimshaw.\n",
      "Returned City 68: Port Alfred.\n",
      "Returned City 69: Ransang.\n",
      "Returned City 70: Atar.\n",
      "Returned City 71: Ilulissat.\n",
      "city not found...\n",
      "city not found...\n",
      "Returned City 72: Natal.\n",
      "Returned City 73: Timrå.\n",
      "city not found...\n",
      "Returned City 74: Noshiro.\n",
      "Returned City 75: Vaini.\n",
      "Returned City 76: Longyearbyen.\n",
      "Returned City 77: Shimoda.\n",
      "Returned City 78: Jaqué.\n",
      "Returned City 79: Jaciara.\n",
      "Returned City 80: Khatanga.\n",
      "Returned City 81: Cidreira.\n",
      "Returned City 82: Pangai.\n",
      "Returned City 83: Kaitangata.\n",
      "Returned City 84: Coahuayana Viejo.\n",
      "Returned City 85: Fukuechō.\n",
      "Returned City 86: Inta.\n",
      "Returned City 87: Bhag.\n",
      "Returned City 88: Cape Town.\n",
      "Returned City 89: Ribeira Grande.\n",
      "city not found...\n",
      "Returned City 90: Ancud.\n",
      "Returned City 91: Amuntai.\n",
      "Returned City 92: Nome.\n",
      "Returned City 93: Sidi Ali.\n",
      "Returned City 94: Churapcha.\n",
      "Returned City 95: Lagoa.\n",
      "Returned City 96: São João da Barra.\n",
      "Returned City 97: Mahébourg.\n",
      "Returned City 98: Mount Isa.\n",
      "Returned City 99: Banda Aceh.\n",
      "Returned City 100: Sitka.\n",
      "city not found...\n",
      "Returned City 101: Bulgan.\n",
      "Returned City 102: Carnarvon.\n",
      "Returned City 103: Huarmey.\n",
      "Returned City 104: Mehamn.\n",
      "Returned City 105: Lakatoro.\n",
      "Returned City 106: Dondo.\n",
      "Returned City 107: Tuktoyaktuk.\n",
      "Returned City 108: Berzasca.\n",
      "Returned City 109: Yangi Marg`ilon.\n",
      "city not found...\n",
      "Returned City 110: Wick.\n",
      "Returned City 111: Nishifukuma.\n",
      "city not found...\n",
      "city not found...\n",
      "Returned City 112: Cabo San Lucas.\n",
      "Returned City 113: Hithadhoo.\n",
      "Returned City 114: Ko Samui.\n",
      "Returned City 115: Troitsko-Pechorsk.\n",
      "city not found...\n",
      "Returned City 116: Bandarbeyla.\n",
      "Returned City 117: Tiksi.\n",
      "city not found...\n",
      "Returned City 118: Saint George.\n",
      "Returned City 119: Novorzhev.\n",
      "Returned City 120: Kaeo.\n",
      "city not found...\n",
      "Returned City 121: Karratha.\n",
      "Returned City 122: Port Hedland.\n",
      "Returned City 123: La Ronge.\n",
      "Returned City 124: Shakawe.\n",
      "Returned City 125: Lompoc.\n",
      "Returned City 126: Morgan City.\n",
      "Returned City 127: Black River.\n",
      "Returned City 128: Bālugaon.\n",
      "Returned City 129: New Norfolk.\n",
      "Returned City 130: Aracruz.\n",
      "Returned City 131: Nikolskoye.\n",
      "Returned City 132: Mizdah.\n",
      "Returned City 133: Isangel.\n",
      "Returned City 134: Brae.\n",
      "Returned City 135: Xinzhou.\n",
      "Returned City 136: Castro.\n",
      "Returned City 137: Bismarck.\n",
      "city not found...\n",
      "Returned City 138: Los Llanos de Aridane.\n",
      "Returned City 139: Conneaut.\n",
      "Returned City 140: Nadym.\n",
      "Returned City 141: Lorengau.\n",
      "city not found...\n",
      "Returned City 142: Mugur-Aksy.\n",
      "Returned City 143: Clyde River.\n",
      "Returned City 144: Itarema.\n",
      "Returned City 145: Barrow.\n",
      "Returned City 146: Dikson.\n",
      "Returned City 147: Praia da Vitória.\n",
      "Returned City 148: Geraldton.\n",
      "Returned City 149: Yulara.\n",
      "Returned City 150: Suclayin.\n",
      "Returned City 151: Kouroussa.\n",
      "Returned City 152: Hamilton.\n",
      "Returned City 153: Cooma.\n",
      "Returned City 154: Leshukonskoye.\n",
      "Returned City 155: Port Blair.\n",
      "Returned City 156: Rocha.\n",
      "Returned City 157: Picton.\n",
      "Returned City 158: Weinan.\n",
      "city not found...\n",
      "Returned City 159: Roebourne.\n",
      "Returned City 160: Viedma.\n",
      "Returned City 161: Katsuura.\n",
      "Returned City 162: Belz.\n",
      "Returned City 163: Broome.\n",
      "city not found...\n",
      "Returned City 164: Lavrentiya.\n",
      "Returned City 165: Yellowknife.\n",
      "Returned City 166: Kuching.\n",
      "Returned City 167: Khani.\n",
      "Returned City 168: Vila Franca do Campo.\n",
      "city not found...\n",
      "Returned City 169: Yarmouth.\n",
      "Returned City 170: Finschhafen.\n",
      "Returned City 171: Upernavik.\n",
      "Returned City 172: Haines Junction.\n",
      "Returned City 173: Harper.\n",
      "Returned City 174: Vao.\n",
      "Returned City 175: Pisco.\n",
      "Returned City 176: Bumba.\n",
      "Returned City 177: Vestmanna.\n",
      "Returned City 178: Tallahassee.\n",
      "Returned City 179: Kavieng.\n",
      "Returned City 180: Yinchuan.\n",
      "Returned City 181: Boyolangu.\n",
      "Returned City 182: Taicheng.\n",
      "Returned City 183: Maní.\n",
      "city not found...\n",
      "Returned City 184: Turaif.\n",
      "Returned City 185: Nelson Bay.\n",
      "Returned City 186: Kifrī.\n",
      "Returned City 187: Bintulu.\n",
      "Returned City 188: Sanmenxia.\n",
      "Returned City 189: Saint Paul Harbor.\n",
      "Returned City 190: Ségou.\n",
      "Returned City 191: Hofn.\n",
      "Returned City 192: Jardim.\n",
      "Returned City 193: Airai.\n",
      "Returned City 194: Tahoua.\n",
      "city not found...\n",
      "Returned City 195: Whitehorse.\n",
      "Returned City 196: Mouila.\n",
      "Returned City 197: Todos Santos.\n",
      "Returned City 198: Camopi.\n",
      "Returned City 199: Bannu.\n",
      "Returned City 200: Grand Gaube.\n",
      "Returned City 201: São Filipe.\n",
      "Returned City 202: Narsaq.\n",
      "Returned City 203: Jumla.\n",
      "Returned City 204: Santa Cecília.\n",
      "Returned City 205: Quaraí.\n",
      "Returned City 206: Panzhihua.\n",
      "Returned City 207: Postřelmov.\n",
      "Returned City 208: Russell.\n",
      "city not found...\n",
      "Returned City 209: Chui.\n",
      "Returned City 210: Crucea.\n",
      "Returned City 211: Mokhsogollokh.\n",
      "Returned City 212: Nanortalik.\n",
      "Returned City 213: Esim.\n",
      "Returned City 214: Cabedelo.\n",
      "Returned City 215: Sabattus.\n",
      "Returned City 216: Ürümqi.\n",
      "Returned City 217: Grindavik.\n",
      "Returned City 218: Provideniya.\n",
      "Returned City 219: Mossamedes.\n",
      "Returned City 220: Bethel.\n",
      "Returned City 221: Vila.\n",
      "Returned City 222: San Cristobal.\n",
      "Returned City 223: Amapá.\n",
      "Returned City 224: Teknāf.\n",
      "Returned City 225: Weligama.\n",
      "Returned City 226: Severo-Kuril'sk.\n",
      "Returned City 227: Salinópolis.\n",
      "Returned City 228: Port-Gentil.\n",
      "Returned City 229: St. George's.\n",
      "Returned City 230: Sheltozero.\n",
      "Returned City 231: Mabaruma.\n",
      "Returned City 232: Pangody.\n",
      "city not found...\n",
      "Returned City 233: Kruisfontein.\n",
      "Returned City 234: Tshela.\n",
      "Returned City 235: Itupiranga.\n",
      "Returned City 236: Huilong.\n",
      "Returned City 237: Ginda.\n",
      "Returned City 238: Atambua.\n",
      "Returned City 239: Poum.\n",
      "city not found...\n",
      "Returned City 240: Balkhash.\n",
      "Returned City 241: Juradó.\n",
      "Returned City 242: Sola.\n",
      "city not found...\n",
      "Returned City 243: Kyshtovka.\n",
      "Returned City 244: Akureyri.\n",
      "Returned City 245: Goderich.\n",
      "Returned City 246: Tougan.\n",
      "Returned City 247: Kainantu.\n",
      "Returned City 248: Ust-Maya.\n",
      "Returned City 249: Vila Velha.\n",
      "Returned City 250: Moose Factory.\n",
      "Returned City 251: Guerrero Negro.\n",
      "Returned City 252: Norman Wells.\n",
      "Returned City 253: Rokiškis.\n",
      "Returned City 254: Jizan.\n",
      "Returned City 255: Luwuk.\n",
      "Returned City 256: Bundaberg.\n",
      "Returned City 257: Koungou.\n",
      "Returned City 258: Oussouye.\n",
      "Returned City 259: Humberto de Campos.\n",
      "city not found...\n",
      "Returned City 260: Lakes Entrance.\n",
      "Returned City 261: Laibin.\n",
      "Returned City 262: Punta Alta.\n",
      "Returned City 263: Portland.\n",
      "Returned City 264: Petropavlovsk-Kamchatskiy.\n",
      "Returned City 265: San Patricio.\n",
      "Returned City 266: North Bend.\n",
      "Returned City 267: Lamu.\n",
      "Returned City 268: Nishihara.\n",
      "Returned City 269: Dunmore Town.\n",
      "Returned City 270: Nānākuli.\n",
      "Returned City 271: Xinyu.\n",
      "Returned City 272: Salalah.\n",
      "Returned City 273: Gizo Government Station.\n",
      "Returned City 274: Arkhangel’skoye.\n",
      "Returned City 275: Lüderitz.\n",
      "Returned City 276: La Paz.\n",
      "Returned City 277: Padang.\n",
      "city not found...\n",
      "Returned City 278: Nara.\n",
      "city not found...\n",
      "Returned City 279: Rabo de Peixe.\n",
      "Returned City 280: Zamość.\n",
      "Returned City 281: Altay.\n",
      "Returned City 282: Ayan.\n",
      "city not found...\n",
      "Returned City 283: Djougou.\n",
      "Returned City 284: San Carlos.\n",
      "Returned City 285: Zhangye.\n",
      "Returned City 286: Constitución.\n",
      "Returned City 287: Asău.\n",
      "Returned City 288: Kudahuvadhoo.\n",
      "Returned City 289: Bengkulu.\n",
      "Returned City 290: Belmonte.\n",
      "Returned City 291: Ankang.\n",
      "city not found...\n",
      "Returned City 292: Zhezkazgan.\n",
      "Returned City 293: Alofi.\n",
      "Returned City 294: Porto Tolle.\n",
      "Returned City 295: Kilindoni.\n",
      "Returned City 296: Kingman.\n",
      "Returned City 297: Batagay-Alyta.\n",
      "Returned City 298: Antipolo City.\n",
      "Returned City 299: Hervey Bay.\n",
      "Returned City 300: Khovd.\n",
      "Returned City 301: Rundu.\n",
      "city not found...\n",
      "Returned City 302: Ambilobe.\n",
      "Returned City 303: Marand.\n",
      "Returned City 304: Clarence Town.\n",
      "city not found...\n",
      "Returned City 305: Elatia.\n",
      "Returned City 306: Avila.\n",
      "city not found...\n",
      "city not found...\n",
      "Returned City 307: Saint-Pierre.\n",
      "Returned City 308: Matagami.\n",
      "Returned City 309: Monrovia.\n",
      "Returned City 310: City of San Pedro.\n",
      "Returned City 311: Moshkovo.\n",
      "Returned City 312: Klaksvík.\n",
      "Returned City 313: Dauphin.\n",
      "Returned City 314: Mount Gambier.\n",
      "Returned City 315: Dargaville.\n",
      "Returned City 316: Borogontsy.\n",
      "city not found...\n",
      "Returned City 317: Nuuk.\n",
      "Returned City 318: Cherskiy.\n",
      "Returned City 319: Hay River.\n",
      "Returned City 320: Samarai.\n",
      "Returned City 321: Pavlohrad.\n",
      "Returned City 322: Palmer.\n",
      "Returned City 323: Tuatapere.\n",
      "Returned City 324: Sol'-Iletsk.\n",
      "Returned City 325: Laas.\n",
      "Returned City 326: Iqaluit.\n",
      "Returned City 327: The Valley.\n",
      "Returned City 328: Torbay.\n",
      "Returned City 329: Florø.\n",
      "Returned City 330: Kumul.\n",
      "Returned City 331: Trani.\n",
      "Returned City 332: Naze.\n",
      "Returned City 333: Saskylakh.\n",
      "Returned City 334: Makakilo City.\n",
      "Returned City 335: Bridgewater.\n",
      "Returned City 336: Saint-Philippe.\n",
      "Returned City 337: Mahon.\n",
      "Returned City 338: Jijiga.\n",
      "Returned City 339: Tarata.\n",
      "Returned City 340: Poções.\n",
      "Returned City 341: Thabazimbi.\n",
      "Returned City 342: Zhob.\n",
      "city not found...\n",
      "Returned City 343: Manisa Province.\n",
      "Returned City 344: Olinda.\n",
      "Returned City 345: Semey.\n",
      "Returned City 346: Jacmel.\n",
      "Returned City 347: Ordu.\n",
      "Returned City 348: Hasaki.\n",
      "Returned City 349: Tūkrah.\n",
      "Returned City 350: Idrinskoye.\n",
      "city not found...\n",
      "Returned City 351: Preobrazheniye.\n",
      "Returned City 352: Bathsheba.\n",
      "city not found...\n",
      "Returned City 353: Margate.\n",
      "Returned City 354: Baruun-Urt.\n",
      "Returned City 355: Abu Dhabi.\n",
      "Returned City 356: Pierre.\n",
      "Returned City 357: Rio Grande.\n",
      "Returned City 358: Khorramshahr.\n",
      "Returned City 359: Bobo-Dioulasso.\n",
      "Returned City 360: Bosobolo.\n",
      "Returned City 361: Baijiantan.\n",
      "Returned City 362: Maniitsoq.\n",
      "Returned City 363: Cap-aux-Meules.\n",
      "Returned City 364: Tateyama.\n",
      "Returned City 365: Udachny.\n",
      "Returned City 366: Mandalgovi.\n",
      "Returned City 367: Santa Cruz de Tenerife.\n",
      "Returned City 368: Haukipudas.\n",
      "Returned City 369: Uzhur.\n",
      "Returned City 370: Fairbanks.\n",
      "city not found...\n",
      "Returned City 371: Dezful.\n",
      "Returned City 372: Pskov.\n",
      "Returned City 373: Rome.\n",
      "Returned City 374: Port Macquarie.\n",
      "Returned City 375: Souillac.\n",
      "Returned City 376: Banamba.\n",
      "city not found...\n",
      "Returned City 377: ‘Āhuimanu.\n",
      "Returned City 378: Tromsø.\n",
      "Returned City 379: Fatezh.\n",
      "Returned City 380: Usinsk.\n",
      "Returned City 381: Beringovskiy.\n",
      "Returned City 382: Richards Bay.\n",
      "Returned City 383: Kautokeino.\n",
      "Returned City 384: Muros.\n",
      "Returned City 385: Malanje.\n",
      "Returned City 386: Faya.\n",
      "Returned City 387: Rosarito.\n",
      "Returned City 388: Catuday.\n",
      "Returned City 389: Chokurdakh.\n",
      "Returned City 390: Rehoboth.\n",
      "city not found...\n",
      "Returned City 391: Sobolevo.\n",
      "city not found...\n",
      "city not found...\n",
      "Returned City 392: Novi Pazar.\n",
      "Returned City 393: Kitgum.\n",
      "Returned City 394: Byron Bay.\n",
      "Returned City 395: Khor.\n",
      "Returned City 396: Avera.\n",
      "city not found...\n",
      "Returned City 397: Ostrovnoy.\n",
      "Returned City 398: Cape Coast.\n",
      "Returned City 399: Phulbāni.\n",
      "Returned City 400: Soe.\n",
      "Returned City 401: Alice Springs.\n",
      "city not found...\n",
      "Returned City 402: Tabou.\n",
      "city not found...\n",
      "Returned City 403: Aspindza.\n",
      "Returned City 404: Port Hawkesbury.\n",
      "city not found...\n",
      "Returned City 405: Bowen.\n",
      "Returned City 406: Pangnirtung.\n",
      "Returned City 407: Mont-Dore.\n",
      "Returned City 408: Serebryansk.\n",
      "Returned City 409: Porto Empedocle.\n",
      "Returned City 410: Henties Bay.\n",
      "Returned City 411: Kambia.\n",
      "Returned City 412: Oron.\n",
      "Returned City 413: Aklavik.\n",
      "Returned City 414: Sungai Penuh.\n",
      "Returned City 415: Kloulklubed.\n",
      "Returned City 416: Rāwah.\n",
      "Returned City 417: Béja.\n",
      "Returned City 418: Samfya.\n",
      "Returned City 419: Otane.\n",
      "Returned City 420: Oistins.\n",
      "Returned City 421: Cabudare.\n",
      "Returned City 422: Namatanai.\n",
      "Returned City 423: Acacoyagua.\n",
      "Returned City 424: Våler.\n",
      "Returned City 425: Saint-Raphaël.\n",
      "Returned City 426: Gravdal.\n",
      "Returned City 427: Diego de Almagro.\n",
      "Returned City 428: Morant Bay.\n",
      "Returned City 429: Port Hueneme.\n",
      "Returned City 430: Constantine.\n",
      "Returned City 431: Kapoeta.\n",
      "Returned City 432: Le Port.\n",
      "Returned City 433: Governador Valadares.\n",
      "Returned City 434: Assiut.\n",
      "Returned City 435: Kwang Binh.\n",
      "Returned City 436: Mareeba.\n",
      "Returned City 437: Yerbogachën.\n",
      "Returned City 438: Māngrol.\n",
      "Returned City 439: Berdigestyakh.\n",
      "Returned City 440: Mogadishu.\n",
      "Returned City 441: Shenjiamen.\n",
      "Returned City 442: Beloha.\n",
      "Returned City 443: Talaya.\n",
      "Returned City 444: Codrington.\n",
      "Returned City 445: Xiaoweizhai.\n",
      "Returned City 446: Champerico.\n",
      "Returned City 447: Gympie.\n",
      "Returned City 448: Tricase.\n",
      "Returned City 449: Sebastian.\n",
      "Returned City 450: Talnakh.\n",
      "Returned City 451: Matara.\n",
      "Returned City 452: Skegness.\n",
      "Returned City 453: Ahipara.\n",
      "Returned City 454: Saint-Joseph.\n",
      "Returned City 455: Santo Antônio do Leverger.\n",
      "Returned City 456: Wewak.\n",
      "Returned City 457: North Platte.\n",
      "Returned City 458: Tuxpan.\n",
      "Returned City 459: Imeni Poliny Osipenko.\n",
      "Returned City 460: Vestmannaeyjar.\n",
      "Returned City 461: Dawei.\n",
      "Returned City 462: Talara.\n",
      "Returned City 463: Tsimmerbude.\n",
      "Returned City 464: Luanda.\n",
      "Returned City 465: Kaberamaido.\n",
      "Returned City 466: Meulaboh.\n",
      "Returned City 467: Urucará.\n",
      "city not found...\n",
      "city not found...\n",
      "Returned City 468: Yanam.\n",
      "Returned City 469: Tomohon.\n",
      "Returned City 470: Banjar.\n",
      "Returned City 471: Deputatsky.\n",
      "Returned City 472: Tura.\n",
      "Returned City 473: Whitefish.\n",
      "Returned City 474: Jambi City.\n",
      "Returned City 475: Sylva.\n",
      "Returned City 476: Leh.\n",
      "Returned City 477: Srandakan.\n",
      "Returned City 478: Mayo.\n",
      "Returned City 479: Yar-Sale.\n",
      "Returned City 480: Ballina.\n",
      "city not found...\n",
      "Returned City 481: Presidencia Roque Sáenz Peña.\n",
      "Returned City 482: Bereda.\n",
      "Returned City 483: Westport.\n",
      "Returned City 484: Winnemucca.\n",
      "Returned City 485: Nouadhibou.\n",
      "Returned City 486: Shelburne.\n",
      "Returned City 487: Orlik.\n",
      "Returned City 488: Hirara.\n",
      "Returned City 489: Tucupita.\n",
      "Returned City 490: Dalvik.\n",
      "Returned City 491: Sorong.\n",
      "Returned City 492: Winterthur.\n",
      "Returned City 493: Bluefield.\n",
      "Returned City 494: Kamenka.\n",
      "Returned City 495: Mehrān.\n",
      "Returned City 496: Mana.\n",
      "Returned City 497: Kununurra.\n",
      "Returned City 498: Ranong.\n",
      "city not found...\n",
      "Returned City 499: Río Cuarto.\n",
      "Returned City 500: Dzhebariki-Khaya.\n",
      "Returned City 501: Oshnavīyeh.\n",
      "Returned City 502: Olafsvik.\n",
      "Returned City 503: Lahuachaca.\n",
      "Returned City 504: Kamaishi.\n",
      "city not found...\n",
      "Returned City 505: Amnat Charoen.\n",
      "Returned City 506: Sfântu Gheorghe.\n",
      "Returned City 507: Antofagasta.\n",
      "Returned City 508: Ţahţā.\n",
      "Returned City 509: Leshan.\n",
      "Returned City 510: Matamoros.\n",
      "Returned City 511: Loralai.\n",
      "Returned City 512: Yenagoa.\n",
      "Returned City 513: Easton.\n",
      "Returned City 514: Zyryanka.\n",
      "Returned City 515: Houma.\n",
      "Returned City 516: Hashtrūd.\n",
      "Returned City 517: Totskoye.\n",
      "Returned City 518: Boa Vista.\n",
      "Returned City 519: Broken Hill.\n",
      "Returned City 520: Kiryat Gat.\n",
      "Returned City 521: Tessalit.\n",
      "Returned City 522: Uglovoye.\n",
      "Returned City 523: Singleton.\n",
      "Returned City 524: Dwārka.\n",
      "Returned City 525: San Policarpo.\n",
      "Returned City 526: Ilhéus.\n",
      "Returned City 527: Tiznit Province.\n",
      "Returned City 528: Bambanglipuro.\n",
      "Returned City 529: Ust'-Shonosha.\n",
      "Returned City 530: Diré.\n",
      "Returned City 531: Fortuna.\n",
      "Returned City 532: Kalmunai.\n",
      "Returned City 533: Vanavara.\n",
      "Returned City 534: Umm Kaddadah.\n",
      "Returned City 535: Gamba.\n",
      "Returned City 536: Sulangan.\n",
      "city not found...\n",
      "Returned City 537: Xining.\n",
      "Returned City 538: General Pico.\n",
      "Execution Complete.  Have a nice day.\n"
     ]
    }
   ],
   "source": [
    "#change if/else to try/except?\n",
    "#CAN'T GET TIME.SLEEP TO WORK.\n",
    "#&units=imperial\n",
    "#using i isn't working, try city/cities.\n",
    "\n",
    "for city in cities:\n",
    "\n",
    "    try:\n",
    "        response=requests.get(query_url + city + \"&units=imperial\").json()\n",
    "        city_name.append(response[\"name\"])\n",
    "        lat.append(response['coord']['lat'])\n",
    "        lon.append(response['coord']['lon'])\n",
    "        max_temp.append(response[\"main\"][\"temp_max\"])\n",
    "        humidity.append(response[\"main\"][\"humidity\"])\n",
    "        clouds.append(response[\"clouds\"][\"all\"])\n",
    "        wind_speed.append(response[\"wind\"][\"speed\"])\n",
    "        country.append(response['sys'][\"country\"])\n",
    "        date.append(response['dt'])\n",
    "        print(f\"Returned City {counter}: {response['name']}.\")\n",
    "        counter += 1\n",
    "    except:\n",
    "        print('city not found...')\n",
    "print(f'Execution Complete.  Have a nice day.')"
   ]
  },
  {
   "cell_type": "code",
   "execution_count": 8,
   "metadata": {},
   "outputs": [],
   "source": [
    "\n",
    "dictionary = {\n",
    "    'City':city_name, \n",
    "    'Lat': lat,\n",
    "    'Lng': lon, \n",
    "    'Max Temp':max_temp, \n",
    "    'Humidity':humidity, \n",
    "    'Cloudiness':clouds,\n",
    "    'Wind Speed':wind_speed, \n",
    "    'Country':country, \n",
    "    'Date':date\n",
    "    }\n"
   ]
  },
  {
   "cell_type": "code",
   "execution_count": 13,
   "metadata": {},
   "outputs": [
    {
     "data": {
      "text/html": [
       "<div>\n",
       "<style scoped>\n",
       "    .dataframe tbody tr th:only-of-type {\n",
       "        vertical-align: middle;\n",
       "    }\n",
       "\n",
       "    .dataframe tbody tr th {\n",
       "        vertical-align: top;\n",
       "    }\n",
       "\n",
       "    .dataframe thead th {\n",
       "        text-align: right;\n",
       "    }\n",
       "</style>\n",
       "<table border=\"1\" class=\"dataframe\">\n",
       "  <thead>\n",
       "    <tr style=\"text-align: right;\">\n",
       "      <th></th>\n",
       "      <th>City</th>\n",
       "      <th>Lat</th>\n",
       "      <th>Lng</th>\n",
       "      <th>Max Temp</th>\n",
       "      <th>Humidity</th>\n",
       "      <th>Cloudiness</th>\n",
       "      <th>Wind Speed</th>\n",
       "      <th>Country</th>\n",
       "      <th>Date</th>\n",
       "    </tr>\n",
       "  </thead>\n",
       "  <tbody>\n",
       "    <tr>\n",
       "      <th>0</th>\n",
       "      <td>East London</td>\n",
       "      <td>-33.0153</td>\n",
       "      <td>27.9116</td>\n",
       "      <td>72.54</td>\n",
       "      <td>73</td>\n",
       "      <td>0</td>\n",
       "      <td>9.22</td>\n",
       "      <td>ZA</td>\n",
       "      <td>1645462562</td>\n",
       "    </tr>\n",
       "    <tr>\n",
       "      <th>1</th>\n",
       "      <td>Punta Arenas</td>\n",
       "      <td>-53.1500</td>\n",
       "      <td>-70.9167</td>\n",
       "      <td>62.71</td>\n",
       "      <td>45</td>\n",
       "      <td>0</td>\n",
       "      <td>17.27</td>\n",
       "      <td>CL</td>\n",
       "      <td>1645462427</td>\n",
       "    </tr>\n",
       "    <tr>\n",
       "      <th>2</th>\n",
       "      <td>Hobart</td>\n",
       "      <td>-42.8794</td>\n",
       "      <td>147.3294</td>\n",
       "      <td>49.86</td>\n",
       "      <td>72</td>\n",
       "      <td>75</td>\n",
       "      <td>5.75</td>\n",
       "      <td>AU</td>\n",
       "      <td>1645462562</td>\n",
       "    </tr>\n",
       "    <tr>\n",
       "      <th>3</th>\n",
       "      <td>Esperance</td>\n",
       "      <td>-33.8667</td>\n",
       "      <td>121.9000</td>\n",
       "      <td>62.44</td>\n",
       "      <td>70</td>\n",
       "      <td>0</td>\n",
       "      <td>15.82</td>\n",
       "      <td>AU</td>\n",
       "      <td>1645462562</td>\n",
       "    </tr>\n",
       "    <tr>\n",
       "      <th>4</th>\n",
       "      <td>Dunedin</td>\n",
       "      <td>-45.8742</td>\n",
       "      <td>170.5036</td>\n",
       "      <td>58.80</td>\n",
       "      <td>81</td>\n",
       "      <td>1</td>\n",
       "      <td>1.01</td>\n",
       "      <td>NZ</td>\n",
       "      <td>1645462563</td>\n",
       "    </tr>\n",
       "  </tbody>\n",
       "</table>\n",
       "</div>"
      ],
      "text/plain": [
       "           City      Lat       Lng  Max Temp  Humidity  Cloudiness  \\\n",
       "0   East London -33.0153   27.9116     72.54        73           0   \n",
       "1  Punta Arenas -53.1500  -70.9167     62.71        45           0   \n",
       "2        Hobart -42.8794  147.3294     49.86        72          75   \n",
       "3     Esperance -33.8667  121.9000     62.44        70           0   \n",
       "4       Dunedin -45.8742  170.5036     58.80        81           1   \n",
       "\n",
       "   Wind Speed Country        Date  \n",
       "0        9.22      ZA  1645462562  \n",
       "1       17.27      CL  1645462427  \n",
       "2        5.75      AU  1645462562  \n",
       "3       15.82      AU  1645462562  \n",
       "4        1.01      NZ  1645462563  "
      ]
     },
     "execution_count": 13,
     "metadata": {},
     "output_type": "execute_result"
    }
   ],
   "source": [
    "weather_df=pd.DataFrame(dictionary)\n",
    "weather_df.head()"
   ]
  },
  {
   "cell_type": "markdown",
   "metadata": {},
   "source": [
    "### Convert Raw Data to DataFrame\n",
    "* Export the city data into a .csv.\n",
    "* Display the DataFrame"
   ]
  },
  {
   "cell_type": "code",
   "execution_count": 14,
   "metadata": {},
   "outputs": [
    {
     "data": {
      "text/html": [
       "<div>\n",
       "<style scoped>\n",
       "    .dataframe tbody tr th:only-of-type {\n",
       "        vertical-align: middle;\n",
       "    }\n",
       "\n",
       "    .dataframe tbody tr th {\n",
       "        vertical-align: top;\n",
       "    }\n",
       "\n",
       "    .dataframe thead th {\n",
       "        text-align: right;\n",
       "    }\n",
       "</style>\n",
       "<table border=\"1\" class=\"dataframe\">\n",
       "  <thead>\n",
       "    <tr style=\"text-align: right;\">\n",
       "      <th></th>\n",
       "      <th>City</th>\n",
       "      <th>Lat</th>\n",
       "      <th>Lng</th>\n",
       "      <th>Max Temp</th>\n",
       "      <th>Humidity</th>\n",
       "      <th>Cloudiness</th>\n",
       "      <th>Wind Speed</th>\n",
       "      <th>Country</th>\n",
       "      <th>Date</th>\n",
       "    </tr>\n",
       "  </thead>\n",
       "  <tbody>\n",
       "    <tr>\n",
       "      <th>0</th>\n",
       "      <td>East London</td>\n",
       "      <td>-33.0153</td>\n",
       "      <td>27.9116</td>\n",
       "      <td>72.54</td>\n",
       "      <td>73</td>\n",
       "      <td>0</td>\n",
       "      <td>9.22</td>\n",
       "      <td>ZA</td>\n",
       "      <td>1645462562</td>\n",
       "    </tr>\n",
       "    <tr>\n",
       "      <th>1</th>\n",
       "      <td>Punta Arenas</td>\n",
       "      <td>-53.1500</td>\n",
       "      <td>-70.9167</td>\n",
       "      <td>62.71</td>\n",
       "      <td>45</td>\n",
       "      <td>0</td>\n",
       "      <td>17.27</td>\n",
       "      <td>CL</td>\n",
       "      <td>1645462427</td>\n",
       "    </tr>\n",
       "    <tr>\n",
       "      <th>2</th>\n",
       "      <td>Hobart</td>\n",
       "      <td>-42.8794</td>\n",
       "      <td>147.3294</td>\n",
       "      <td>49.86</td>\n",
       "      <td>72</td>\n",
       "      <td>75</td>\n",
       "      <td>5.75</td>\n",
       "      <td>AU</td>\n",
       "      <td>1645462562</td>\n",
       "    </tr>\n",
       "    <tr>\n",
       "      <th>3</th>\n",
       "      <td>Esperance</td>\n",
       "      <td>-33.8667</td>\n",
       "      <td>121.9000</td>\n",
       "      <td>62.44</td>\n",
       "      <td>70</td>\n",
       "      <td>0</td>\n",
       "      <td>15.82</td>\n",
       "      <td>AU</td>\n",
       "      <td>1645462562</td>\n",
       "    </tr>\n",
       "    <tr>\n",
       "      <th>4</th>\n",
       "      <td>Dunedin</td>\n",
       "      <td>-45.8742</td>\n",
       "      <td>170.5036</td>\n",
       "      <td>58.80</td>\n",
       "      <td>81</td>\n",
       "      <td>1</td>\n",
       "      <td>1.01</td>\n",
       "      <td>NZ</td>\n",
       "      <td>1645462563</td>\n",
       "    </tr>\n",
       "    <tr>\n",
       "      <th>...</th>\n",
       "      <td>...</td>\n",
       "      <td>...</td>\n",
       "      <td>...</td>\n",
       "      <td>...</td>\n",
       "      <td>...</td>\n",
       "      <td>...</td>\n",
       "      <td>...</td>\n",
       "      <td>...</td>\n",
       "      <td>...</td>\n",
       "    </tr>\n",
       "    <tr>\n",
       "      <th>533</th>\n",
       "      <td>Umm Kaddadah</td>\n",
       "      <td>13.6017</td>\n",
       "      <td>26.6876</td>\n",
       "      <td>70.47</td>\n",
       "      <td>13</td>\n",
       "      <td>22</td>\n",
       "      <td>11.92</td>\n",
       "      <td>SD</td>\n",
       "      <td>1645462733</td>\n",
       "    </tr>\n",
       "    <tr>\n",
       "      <th>534</th>\n",
       "      <td>Gamba</td>\n",
       "      <td>-2.6500</td>\n",
       "      <td>10.0000</td>\n",
       "      <td>81.00</td>\n",
       "      <td>77</td>\n",
       "      <td>100</td>\n",
       "      <td>5.79</td>\n",
       "      <td>GA</td>\n",
       "      <td>1645462733</td>\n",
       "    </tr>\n",
       "    <tr>\n",
       "      <th>535</th>\n",
       "      <td>Sulangan</td>\n",
       "      <td>11.1373</td>\n",
       "      <td>123.7228</td>\n",
       "      <td>78.89</td>\n",
       "      <td>83</td>\n",
       "      <td>99</td>\n",
       "      <td>13.96</td>\n",
       "      <td>PH</td>\n",
       "      <td>1645462734</td>\n",
       "    </tr>\n",
       "    <tr>\n",
       "      <th>536</th>\n",
       "      <td>Xining</td>\n",
       "      <td>36.6167</td>\n",
       "      <td>101.7667</td>\n",
       "      <td>18.77</td>\n",
       "      <td>50</td>\n",
       "      <td>96</td>\n",
       "      <td>3.11</td>\n",
       "      <td>CN</td>\n",
       "      <td>1645462734</td>\n",
       "    </tr>\n",
       "    <tr>\n",
       "      <th>537</th>\n",
       "      <td>General Pico</td>\n",
       "      <td>-35.6566</td>\n",
       "      <td>-63.7568</td>\n",
       "      <td>75.20</td>\n",
       "      <td>49</td>\n",
       "      <td>82</td>\n",
       "      <td>10.92</td>\n",
       "      <td>AR</td>\n",
       "      <td>1645462734</td>\n",
       "    </tr>\n",
       "  </tbody>\n",
       "</table>\n",
       "<p>538 rows × 9 columns</p>\n",
       "</div>"
      ],
      "text/plain": [
       "             City      Lat       Lng  Max Temp  Humidity  Cloudiness  \\\n",
       "0     East London -33.0153   27.9116     72.54        73           0   \n",
       "1    Punta Arenas -53.1500  -70.9167     62.71        45           0   \n",
       "2          Hobart -42.8794  147.3294     49.86        72          75   \n",
       "3       Esperance -33.8667  121.9000     62.44        70           0   \n",
       "4         Dunedin -45.8742  170.5036     58.80        81           1   \n",
       "..            ...      ...       ...       ...       ...         ...   \n",
       "533  Umm Kaddadah  13.6017   26.6876     70.47        13          22   \n",
       "534         Gamba  -2.6500   10.0000     81.00        77         100   \n",
       "535      Sulangan  11.1373  123.7228     78.89        83          99   \n",
       "536        Xining  36.6167  101.7667     18.77        50          96   \n",
       "537  General Pico -35.6566  -63.7568     75.20        49          82   \n",
       "\n",
       "     Wind Speed Country        Date  \n",
       "0          9.22      ZA  1645462562  \n",
       "1         17.27      CL  1645462427  \n",
       "2          5.75      AU  1645462562  \n",
       "3         15.82      AU  1645462562  \n",
       "4          1.01      NZ  1645462563  \n",
       "..          ...     ...         ...  \n",
       "533       11.92      SD  1645462733  \n",
       "534        5.79      GA  1645462733  \n",
       "535       13.96      PH  1645462734  \n",
       "536        3.11      CN  1645462734  \n",
       "537       10.92      AR  1645462734  \n",
       "\n",
       "[538 rows x 9 columns]"
      ]
     },
     "execution_count": 14,
     "metadata": {},
     "output_type": "execute_result"
    }
   ],
   "source": [
    "#were we supposed to use output file?  I will make a new csv just in case we are not supposed to overwrite output_file\n",
    "\n",
    "weather_df.to_csv(\"weather_data.csv\")\n",
    "weather_df"
   ]
  },
  {
   "cell_type": "code",
   "execution_count": 15,
   "metadata": {},
   "outputs": [
    {
     "data": {
      "text/html": [
       "<div>\n",
       "<style scoped>\n",
       "    .dataframe tbody tr th:only-of-type {\n",
       "        vertical-align: middle;\n",
       "    }\n",
       "\n",
       "    .dataframe tbody tr th {\n",
       "        vertical-align: top;\n",
       "    }\n",
       "\n",
       "    .dataframe thead th {\n",
       "        text-align: right;\n",
       "    }\n",
       "</style>\n",
       "<table border=\"1\" class=\"dataframe\">\n",
       "  <thead>\n",
       "    <tr style=\"text-align: right;\">\n",
       "      <th></th>\n",
       "      <th>Lat</th>\n",
       "      <th>Lng</th>\n",
       "      <th>Max Temp</th>\n",
       "      <th>Humidity</th>\n",
       "      <th>Cloudiness</th>\n",
       "      <th>Wind Speed</th>\n",
       "      <th>Date</th>\n",
       "    </tr>\n",
       "  </thead>\n",
       "  <tbody>\n",
       "    <tr>\n",
       "      <th>count</th>\n",
       "      <td>538.000000</td>\n",
       "      <td>538.000000</td>\n",
       "      <td>538.000000</td>\n",
       "      <td>538.000000</td>\n",
       "      <td>538.000000</td>\n",
       "      <td>538.000000</td>\n",
       "      <td>5.380000e+02</td>\n",
       "    </tr>\n",
       "    <tr>\n",
       "      <th>mean</th>\n",
       "      <td>20.077852</td>\n",
       "      <td>22.970670</td>\n",
       "      <td>53.189814</td>\n",
       "      <td>70.609665</td>\n",
       "      <td>59.488848</td>\n",
       "      <td>8.925353</td>\n",
       "      <td>1.645463e+09</td>\n",
       "    </tr>\n",
       "    <tr>\n",
       "      <th>std</th>\n",
       "      <td>32.881407</td>\n",
       "      <td>89.785394</td>\n",
       "      <td>32.497483</td>\n",
       "      <td>22.266878</td>\n",
       "      <td>37.275022</td>\n",
       "      <td>6.598055</td>\n",
       "      <td>8.637458e+01</td>\n",
       "    </tr>\n",
       "    <tr>\n",
       "      <th>min</th>\n",
       "      <td>-54.800000</td>\n",
       "      <td>-175.200000</td>\n",
       "      <td>-51.070000</td>\n",
       "      <td>5.000000</td>\n",
       "      <td>0.000000</td>\n",
       "      <td>0.000000</td>\n",
       "      <td>1.645462e+09</td>\n",
       "    </tr>\n",
       "    <tr>\n",
       "      <th>25%</th>\n",
       "      <td>-6.886425</td>\n",
       "      <td>-54.194150</td>\n",
       "      <td>35.455000</td>\n",
       "      <td>58.000000</td>\n",
       "      <td>21.000000</td>\n",
       "      <td>4.070000</td>\n",
       "      <td>1.645463e+09</td>\n",
       "    </tr>\n",
       "    <tr>\n",
       "      <th>50%</th>\n",
       "      <td>24.083350</td>\n",
       "      <td>25.461200</td>\n",
       "      <td>62.385000</td>\n",
       "      <td>75.000000</td>\n",
       "      <td>68.500000</td>\n",
       "      <td>7.460000</td>\n",
       "      <td>1.645463e+09</td>\n",
       "    </tr>\n",
       "    <tr>\n",
       "      <th>75%</th>\n",
       "      <td>46.664600</td>\n",
       "      <td>103.276025</td>\n",
       "      <td>78.750000</td>\n",
       "      <td>88.000000</td>\n",
       "      <td>100.000000</td>\n",
       "      <td>11.905000</td>\n",
       "      <td>1.645463e+09</td>\n",
       "    </tr>\n",
       "    <tr>\n",
       "      <th>max</th>\n",
       "      <td>78.218600</td>\n",
       "      <td>179.316700</td>\n",
       "      <td>103.620000</td>\n",
       "      <td>100.000000</td>\n",
       "      <td>100.000000</td>\n",
       "      <td>50.640000</td>\n",
       "      <td>1.645463e+09</td>\n",
       "    </tr>\n",
       "  </tbody>\n",
       "</table>\n",
       "</div>"
      ],
      "text/plain": [
       "              Lat         Lng    Max Temp    Humidity  Cloudiness  Wind Speed  \\\n",
       "count  538.000000  538.000000  538.000000  538.000000  538.000000  538.000000   \n",
       "mean    20.077852   22.970670   53.189814   70.609665   59.488848    8.925353   \n",
       "std     32.881407   89.785394   32.497483   22.266878   37.275022    6.598055   \n",
       "min    -54.800000 -175.200000  -51.070000    5.000000    0.000000    0.000000   \n",
       "25%     -6.886425  -54.194150   35.455000   58.000000   21.000000    4.070000   \n",
       "50%     24.083350   25.461200   62.385000   75.000000   68.500000    7.460000   \n",
       "75%     46.664600  103.276025   78.750000   88.000000  100.000000   11.905000   \n",
       "max     78.218600  179.316700  103.620000  100.000000  100.000000   50.640000   \n",
       "\n",
       "               Date  \n",
       "count  5.380000e+02  \n",
       "mean   1.645463e+09  \n",
       "std    8.637458e+01  \n",
       "min    1.645462e+09  \n",
       "25%    1.645463e+09  \n",
       "50%    1.645463e+09  \n",
       "75%    1.645463e+09  \n",
       "max    1.645463e+09  "
      ]
     },
     "execution_count": 15,
     "metadata": {},
     "output_type": "execute_result"
    }
   ],
   "source": [
    "weather_df.describe()"
   ]
  },
  {
   "cell_type": "markdown",
   "metadata": {},
   "source": [
    "## Inspect the data and remove the cities where the humidity > 100%.\n",
    "----\n",
    "Skip this step if there are no cities that have humidity > 100%. "
   ]
  },
  {
   "cell_type": "code",
   "execution_count": 16,
   "metadata": {},
   "outputs": [],
   "source": [
    "#no cities with humidity > 100"
   ]
  },
  {
   "cell_type": "code",
   "execution_count": 26,
   "metadata": {},
   "outputs": [],
   "source": [
    "weather_df[\"Wind Speed\"]=weather_df[\"Wind Speed\"].astype(int)"
   ]
  },
  {
   "cell_type": "markdown",
   "metadata": {},
   "source": [
    "## Plotting the Data\n",
    "* Use proper labeling of the plots using plot titles (including date of analysis) and axes labels.\n",
    "* Save the plotted figures as .pngs."
   ]
  },
  {
   "cell_type": "markdown",
   "metadata": {},
   "source": [
    "## Latitude vs. Temperature Plot"
   ]
  },
  {
   "cell_type": "code",
   "execution_count": 17,
   "metadata": {
    "scrolled": true
   },
   "outputs": [
    {
     "data": {
      "image/png": "[encoded data removed]",
      "text/plain": [
       "<Figure size 432x288 with 1 Axes>"
      ]
     },
     "metadata": {
      "needs_background": "light"
     },
     "output_type": "display_data"
    }
   ],
   "source": [
    "#pull out variables first\n",
    "latitude=weather_df[\"Lat\"]\n",
    "temp=weather_df[\"Max Temp\"]\n",
    "\n",
    "plt.scatter(latitude, max_temp)\n",
    "plt.grid()\n",
    "plt.xlabel(\"Latitude\")\n",
    "plt.ylabel(\"Max Temperature (F)\")\n",
    "plt.title(\"City Latitude vs. Max Temperature\")\n",
    "\n",
    "plt.savefig(\"Images/latitude_v_temp.png\")\n",
    "plt.show()"
   ]
  },
  {
   "cell_type": "markdown",
   "metadata": {},
   "source": [
    "This plot seems to be showing us that as we move further north in latitudes, our maximum temperatures drop drastically; nearly a 100 degree drop from 20 degrees latitude to 70 degrees latitude."
   ]
  },
  {
   "cell_type": "markdown",
   "metadata": {},
   "source": [
    "## Latitude vs. Humidity Plot"
   ]
  },
  {
   "cell_type": "code",
   "execution_count": 19,
   "metadata": {},
   "outputs": [
    {
     "data": {
      "image/png": "[encoded data removed]",
      "text/plain": [
       "<Figure size 432x288 with 1 Axes>"
      ]
     },
     "metadata": {
      "needs_background": "light"
     },
     "output_type": "display_data"
    }
   ],
   "source": [
    "humidity=weather_df[\"Humidity\"]\n",
    "\n",
    "plt.scatter(latitude, humidity)\n",
    "plt.grid()\n",
    "plt.xlabel(\"Latitude\")\n",
    "plt.ylabel(\"Humidity (%)\")\n",
    "plt.title(\"City Latitude vs. Humidity\")\n",
    "\n",
    "plt.savefig(\"Images/latitude_v_humidity.png\")\n",
    "plt.show()"
   ]
  },
  {
   "cell_type": "markdown",
   "metadata": {},
   "source": [
    "Here we see a beautiful, slightly heart-shaped plot of humidity compared to latitude.  It would seem that the lowest humidity areas can be found between 0-20 degrees latitude, with a cluster of very high humidity areas between about 50-70 degrees latitude."
   ]
  },
  {
   "cell_type": "markdown",
   "metadata": {},
   "source": [
    "## Latitude vs. Cloudiness Plot"
   ]
  },
  {
   "cell_type": "code",
   "execution_count": 20,
   "metadata": {},
   "outputs": [
    {
     "data": {
      "image/png": "[encoded data removed]",
      "text/plain": [
       "<Figure size 432x288 with 1 Axes>"
      ]
     },
     "metadata": {
      "needs_background": "light"
     },
     "output_type": "display_data"
    }
   ],
   "source": [
    "cloudiness=weather_df[\"Cloudiness\"]\n",
    "\n",
    "plt.scatter(latitude, cloudiness)\n",
    "plt.grid()\n",
    "plt.xlabel(\"Latitude\")\n",
    "plt.ylabel(\"Cloudiness (%)\")\n",
    "plt.title(\"City Latitude vs. Cloudiness\")\n",
    "\n",
    "plt.savefig('Images/latitude_v_clouds.png')\n",
    "plt.show()"
   ]
  },
  {
   "cell_type": "markdown",
   "metadata": {},
   "source": [
    "We can see plainly here that it's possible to find 100% cloudy days at any latitude, and there seems to be no correlation beetween cloudiness and latitude."
   ]
  },
  {
   "cell_type": "markdown",
   "metadata": {},
   "source": [
    "## Latitude vs. Wind Speed Plot"
   ]
  },
  {
   "cell_type": "code",
   "execution_count": 28,
   "metadata": {},
   "outputs": [
    {
     "data": {
      "image/png": "[encoded data removed]",
      "text/plain": [
       "<Figure size 432x288 with 1 Axes>"
      ]
     },
     "metadata": {
      "needs_background": "light"
     },
     "output_type": "display_data"
    }
   ],
   "source": [
    "winds=weather_df[\"Wind Speed\"]\n",
    "\n",
    "plt.scatter(latitude, winds)\n",
    "plt.grid()\n",
    "plt.xlabel(\"Latitude\")\n",
    "plt.ylabel(\"Wind Speed (mph)\")\n",
    "plt.title(\"City Latitude vs. Wind Speed\")\n",
    "\n",
    "plt.savefig(\"Images/latitude_v_winds.png\")\n",
    "plt.show()"
   ]
  },
  {
   "cell_type": "markdown",
   "metadata": {},
   "source": [
    "We can see patterns in wind speed from this graph, for example that wind speeds topping 20mph seem to be outliers in that they do not occur as often.  There does seem to be a higher likelihood that higher wind speeds would occur in latitudes north of the equator, however there is not enough of a correlation in this dataset to say that definitively."
   ]
  },
  {
   "cell_type": "markdown",
   "metadata": {},
   "source": [
    "## Linear Regression"
   ]
  },
  {
   "cell_type": "code",
   "execution_count": 30,
   "metadata": {},
   "outputs": [],
   "source": [
    "#split data into north and south hemisphere\n",
    "\n",
    "north_hem_df=weather_df.loc[weather_df[\"Lat\"]>0]\n",
    "south_hem_df=weather_df.loc[weather_df[\"Lat\"]<=0]\n",
    "\n",
    "#need temperatures, latitudes, humidity, clouds, and wind speed for each\n",
    "\n",
    "north_temp=north_hem_df[\"Max Temp\"]\n",
    "north_lat=north_hem_df[\"Lat\"]\n",
    "north_hum=north_hem_df[\"Humidity\"]\n",
    "north_cloud=north_hem_df[\"Cloudiness\"]\n",
    "north_wind=north_hem_df[\"Wind Speed\"]\n",
    "\n",
    "south_temp=south_hem_df[\"Max Temp\"]\n",
    "south_lat=south_hem_df[\"Lat\"]\n",
    "south_hum=south_hem_df[\"Humidity\"]\n",
    "south_cloud=south_hem_df[\"Cloudiness\"]\n",
    "south_wind=south_hem_df[\"Wind Speed\"]\n"
   ]
  },
  {
   "cell_type": "markdown",
   "metadata": {},
   "source": [
    "####  Northern Hemisphere - Max Temp vs. Latitude Linear Regression"
   ]
  },
  {
   "cell_type": "code",
   "execution_count": 51,
   "metadata": {},
   "outputs": [],
   "source": [
    "(slope, intercept, rvalue, pvalue, stderr)=linregress(north_lat, north_temp)\n",
    "\n",
    "regress=north_lat *slope+intercept\n",
    "line=\"y=\"+str(round(slope,2))+\"x+\"+str(round(intercept,2))"
   ]
  },
  {
   "cell_type": "code",
   "execution_count": 52,
   "metadata": {},
   "outputs": [
    {
     "name": "stdout",
     "output_type": "stream",
     "text": [
      "r-value: -0.8440284245850067\n"
     ]
    },
    {
     "data": {
      "image/png": "[encoded data removed]",
      "text/plain": [
       "<Figure size 432x288 with 1 Axes>"
      ]
     },
     "metadata": {
      "needs_background": "light"
     },
     "output_type": "display_data"
    }
   ],
   "source": [
    "print(f\"r-value: {rvalue}\")\n",
    "plt.scatter(north_lat, north_temp)\n",
    "plt.grid()\n",
    "plt.xlabel(\"Latitude\")\n",
    "plt.ylabel(\"Max Temp (F)\")\n",
    "plt.title(\"Northern Hemisphere - Temperature (F) vs. Latitude\")\n",
    "\n",
    "plt.plot(north_lat, regress)\n",
    "plt.annotate(line, (6,-25))\n",
    "\n",
    "plt.savefig(\"Images/northlatitude_v_temp.png\")\n",
    "plt.show()\n"
   ]
  },
  {
   "cell_type": "markdown",
   "metadata": {},
   "source": [
    "####  Southern Hemisphere - Max Temp vs. Latitude Linear Regression"
   ]
  },
  {
   "cell_type": "code",
   "execution_count": 48,
   "metadata": {},
   "outputs": [
    {
     "name": "stdout",
     "output_type": "stream",
     "text": [
      "r-value: 0.5517314337837314\n"
     ]
    },
    {
     "data": {
      "image/png": "[encoded data removed]",
      "text/plain": [
       "<Figure size 432x288 with 1 Axes>"
      ]
     },
     "metadata": {
      "needs_background": "light"
     },
     "output_type": "display_data"
    }
   ],
   "source": [
    "#same method, change to southern variables\n",
    "(slope, intercept, rvalue, pvalue, stderr)=linregress(south_lat, south_temp)\n",
    "\n",
    "regress=south_lat *slope+intercept\n",
    "line=\"y=\"+str(round(slope,2))+\"x+\"+str(round(intercept,2))\n",
    "\n",
    "print(f\"r-value: {rvalue}\")\n",
    "plt.scatter(south_lat, south_temp)\n",
    "plt.grid()\n",
    "plt.xlabel(\"Latitude\")\n",
    "plt.ylabel(\"Max Temp (F)\")\n",
    "plt.title(\"Southern Hemisphere - Temperature (F) vs. Latitude\")\n",
    "\n",
    "plt.plot(south_lat, regress)\n",
    "plt.annotate(line, (-50,85))\n",
    "\n",
    "plt.savefig(\"Images/southlatitude_v_temp.png\")\n",
    "\n",
    "plt.show()"
   ]
  },
  {
   "cell_type": "markdown",
   "metadata": {},
   "source": [
    "In northern latitudes, there is a more definite correlation between temperature and latitude.  The further north you go from the equator, the lower the average temperature.  While this is also loosely true for the southern hemisphere, there is less of a definite correlation.  Temperatures do drop as you move further south from the equator, but there is a wider margin of degree variation."
   ]
  },
  {
   "cell_type": "markdown",
   "metadata": {},
   "source": [
    "####  Northern Hemisphere - Humidity (%) vs. Latitude Linear Regression"
   ]
  },
  {
   "cell_type": "code",
   "execution_count": 54,
   "metadata": {},
   "outputs": [
    {
     "name": "stdout",
     "output_type": "stream",
     "text": [
      "r-value: 0.44946845483713704\n"
     ]
    },
    {
     "data": {
      "image/png": "[encoded data removed]",
      "text/plain": [
       "<Figure size 432x288 with 1 Axes>"
      ]
     },
     "metadata": {
      "needs_background": "light"
     },
     "output_type": "display_data"
    }
   ],
   "source": [
    "(slope, intercept, rvalue, pvalue, stderr)=linregress(north_lat, north_hum)\n",
    "\n",
    "regress=north_lat *slope+intercept\n",
    "line=\"y=\"+str(round(slope,2))+\"x+\"+str(round(intercept,2))\n",
    "\n",
    "print(f\"r-value: {rvalue}\")\n",
    "plt.scatter(north_lat, north_hum)\n",
    "plt.grid()\n",
    "plt.xlabel(\"Latitude\")\n",
    "plt.ylabel(\"Humidity\")\n",
    "plt.title(\"Northern Hemisphere - Humidity % vs. Latitude\")\n",
    "\n",
    "plt.plot(north_lat, regress)\n",
    "plt.annotate(line, (60,25))\n",
    "\n",
    "plt.savefig(\"Images/northlatitude_v_humidity.png\")\n",
    "\n",
    "plt.show()"
   ]
  },
  {
   "cell_type": "markdown",
   "metadata": {},
   "source": [
    "####  Southern Hemisphere - Humidity (%) vs. Latitude Linear Regression"
   ]
  },
  {
   "cell_type": "code",
   "execution_count": 57,
   "metadata": {},
   "outputs": [
    {
     "name": "stdout",
     "output_type": "stream",
     "text": [
      "r-value: 0.23027153309578316\n"
     ]
    },
    {
     "data": {
      "image/png": "[encoded data removed]",
      "text/plain": [
       "<Figure size 432x288 with 1 Axes>"
      ]
     },
     "metadata": {
      "needs_background": "light"
     },
     "output_type": "display_data"
    }
   ],
   "source": [
    "(slope, intercept, rvalue, pvalue, stderr)=linregress(south_lat, south_hum)\n",
    "\n",
    "regress=south_lat *slope+intercept\n",
    "line=\"y=\"+str(round(slope,2))+\"x+\"+str(round(intercept,2))\n",
    "\n",
    "print(f\"r-value: {rvalue}\")\n",
    "plt.scatter(south_lat, south_hum)\n",
    "plt.grid()\n",
    "plt.xlabel(\"Latitude\")\n",
    "plt.ylabel(\"Humidity (%)\")\n",
    "plt.title(\"Southern Hemisphere - Humidity (%) vs. Latitude\")\n",
    "\n",
    "plt.plot(south_lat, regress)\n",
    "plt.annotate(line, (30,-50))\n",
    "\n",
    "plt.savefig(\"Images/southlatitude_v_humidity.png\")\n",
    "\n",
    "plt.show()"
   ]
  },
  {
   "cell_type": "markdown",
   "metadata": {},
   "source": [
    "There seems to be a definite spike in humidity in the northern latitudes of 50-80 degrees.  However, from there, as you move further south and past the equator, there seems to be wide variability in humidity levels with little discernable patterns.  It seems tempting to observe more plots in the northern hemisphere and gather that the southern hemisphere has lower humidity due to visibly fewer plots, but there are also fewer cities in the southern latitudes and this must be considered as a possible reason."
   ]
  },
  {
   "cell_type": "markdown",
   "metadata": {},
   "source": [
    "####  Northern Hemisphere - Cloudiness (%) vs. Latitude Linear Regression"
   ]
  },
  {
   "cell_type": "code",
   "execution_count": 59,
   "metadata": {},
   "outputs": [
    {
     "name": "stdout",
     "output_type": "stream",
     "text": [
      "r-value: 0.1776528546914963\n"
     ]
    },
    {
     "data": {
      "image/png": "[encoded data removed]",
      "text/plain": [
       "<Figure size 432x288 with 1 Axes>"
      ]
     },
     "metadata": {
      "needs_background": "light"
     },
     "output_type": "display_data"
    }
   ],
   "source": [
    "(slope, intercept, rvalue, pvalue, stderr)=linregress(north_lat, north_cloud)\n",
    "\n",
    "regress=north_lat *slope+intercept\n",
    "line=\"y=\"+str(round(slope,2))+\"x+\"+str(round(intercept,2))\n",
    "\n",
    "print(f\"r-value: {rvalue}\")\n",
    "plt.scatter(north_lat, north_cloud)\n",
    "plt.grid()\n",
    "plt.xlabel(\"Latitude\")\n",
    "plt.ylabel(\"Cloudiness\")\n",
    "plt.title(\"Northern Hemisphere - Cloudiness vs. Latitude\")\n",
    "\n",
    "plt.plot(north_lat, regress)\n",
    "plt.annotate(line, (60,25))\n",
    "\n",
    "plt.savefig(\"Images/northlatitude_v_cloudiness.png\")\n",
    "\n",
    "plt.show()"
   ]
  },
  {
   "cell_type": "markdown",
   "metadata": {},
   "source": [
    "####  Southern Hemisphere - Cloudiness (%) vs. Latitude Linear Regression"
   ]
  },
  {
   "cell_type": "code",
   "execution_count": 65,
   "metadata": {},
   "outputs": [
    {
     "name": "stdout",
     "output_type": "stream",
     "text": [
      "r-value: 0.32212494646915096\n"
     ]
    },
    {
     "data": {
      "image/png": "[encoded data removed]",
      "text/plain": [
       "<Figure size 432x288 with 1 Axes>"
      ]
     },
     "metadata": {
      "needs_background": "light"
     },
     "output_type": "display_data"
    }
   ],
   "source": [
    "(slope, intercept, rvalue, pvalue, stderr)=linregress(south_lat, south_cloud)\n",
    "\n",
    "regress=south_lat *slope+intercept\n",
    "line=\"y=\"+str(round(slope,2))+\"x+\"+str(round(intercept,2))\n",
    "\n",
    "print(f\"r-value: {rvalue}\")\n",
    "plt.scatter(south_lat, south_cloud)\n",
    "plt.grid()\n",
    "plt.xlabel(\"Latitude\")\n",
    "plt.ylabel(\"Cloudiness (%)\")\n",
    "plt.title(\"Southern Hemisphere - Cloudiness (%) vs. Latitude\")\n",
    "\n",
    "plt.plot(south_lat, regress)\n",
    "plt.annotate(line, (-53,60))\n",
    "\n",
    "plt.savefig(\"Images/southlatitude_v_cloudiness.png\")\n",
    "\n",
    "plt.show()"
   ]
  },
  {
   "cell_type": "markdown",
   "metadata": {},
   "source": [
    "Once again, it seems that there is little correlation between latitudes and cloudiness percentage.  "
   ]
  },
  {
   "cell_type": "markdown",
   "metadata": {},
   "source": [
    "####  Northern Hemisphere - Wind Speed (mph) vs. Latitude Linear Regression"
   ]
  },
  {
   "cell_type": "code",
   "execution_count": 67,
   "metadata": {},
   "outputs": [
    {
     "name": "stdout",
     "output_type": "stream",
     "text": [
      "r-value: 0.04697784262618388\n"
     ]
    },
    {
     "data": {
      "image/png": "[encoded data removed]",
      "text/plain": [
       "<Figure size 432x288 with 1 Axes>"
      ]
     },
     "metadata": {
      "needs_background": "light"
     },
     "output_type": "display_data"
    }
   ],
   "source": [
    "(slope, intercept, rvalue, pvalue, stderr)=linregress(north_lat, north_wind)\n",
    "\n",
    "regress=north_lat *slope+intercept\n",
    "line=\"y=\"+str(round(slope,2))+\"x+\"+str(round(intercept,2))\n",
    "\n",
    "print(f\"r-value: {rvalue}\")\n",
    "plt.scatter(north_lat, north_wind)\n",
    "plt.grid()\n",
    "plt.xlabel(\"Latitude\")\n",
    "plt.ylabel(\"Wind Speed (mph)\")\n",
    "plt.title(\"Northern Hemisphere - Wind Speed (mph) vs. Latitude\")\n",
    "\n",
    "plt.plot(north_lat, regress)\n",
    "plt.annotate(line, (30,40))\n",
    "\n",
    "plt.savefig(\"Images/northlatitude_v_windspeed.png\")\n",
    "\n",
    "plt.show()"
   ]
  },
  {
   "cell_type": "markdown",
   "metadata": {},
   "source": [
    "####  Southern Hemisphere - Wind Speed (mph) vs. Latitude Linear Regression"
   ]
  },
  {
   "cell_type": "code",
   "execution_count": 68,
   "metadata": {},
   "outputs": [
    {
     "name": "stdout",
     "output_type": "stream",
     "text": [
      "r-value: -0.18677113395236544\n"
     ]
    },
    {
     "data": {
      "image/png": "[encoded data removed]",
      "text/plain": [
       "<Figure size 432x288 with 1 Axes>"
      ]
     },
     "metadata": {
      "needs_background": "light"
     },
     "output_type": "display_data"
    }
   ],
   "source": [
    "(slope, intercept, rvalue, pvalue, stderr)=linregress(south_lat, south_wind)\n",
    "\n",
    "regress=south_lat *slope+intercept\n",
    "line=\"y=\"+str(round(slope,2))+\"x+\"+str(round(intercept,2))\n",
    "\n",
    "print(f\"r-value: {rvalue}\")\n",
    "plt.scatter(south_lat, south_wind)\n",
    "plt.grid()\n",
    "plt.xlabel(\"Latitude\")\n",
    "plt.ylabel(\"Wind Speed (mph)\")\n",
    "plt.title(\"Southern Hemisphere - Wind Speed (mph) vs. Latitude\")\n",
    "\n",
    "plt.plot(south_lat, regress)\n",
    "plt.annotate(line, (-53,30))\n",
    "\n",
    "plt.savefig(\"Images/southlatitude_v_windspeed.png\")\n",
    "\n",
    "plt.show()"
   ]
  },
  {
   "cell_type": "markdown",
   "metadata": {},
   "source": [
    "What is interesting here is that we can gather the same information as before about northern latitudes and wind speeds: that speeds tend to remain between 0-20mph, and wind speeds above that are more rare outliers; our southern hemisphere plots give us the same information, with the maximum outlier only being near 32mph compared to the northern hemisphere's 50mph outlier."
   ]
  }
 ],
 "metadata": {
  "anaconda-cloud": {},
  "interpreter": {
   "hash": "616df9399af6bdf6d33ac95529b0d2828fed76fe8f4b2c4c02ca02c331dd402e"
  },
  "kernel_info": {
   "name": "python3"
  },
  "kernelspec": {
   "display_name": "mypydev",
   "language": "python",
   "name": "python3"
  },
  "language_info": {
   "codemirror_mode": {
    "name": "ipython",
    "version": 3
   },
   "file_extension": ".py",
   "mimetype": "text/x-python",
   "name": "python",
   "nbconvert_exporter": "python",
   "pygments_lexer": "ipython3",
   "version": "3.6.10"
  },
  "latex_envs": {
   "LaTeX_envs_menu_present": true,
   "autoclose": false,
   "autocomplete": true,
   "bibliofile": "biblio.bib",
   "cite_by": "apalike",
   "current_citInitial": 1,
   "eqLabelWithNumbers": true,
   "eqNumInitial": 1,
   "hotkeys": {
    "equation": "Ctrl-E",
    "itemize": "Ctrl-I"
   },
   "labels_anchors": false,
   "latex_user_defs": false,
   "report_style_numbering": false,
   "user_envs_cfg": false
  },
  "nteract": {
   "version": "0.12.3"
  }
 },
 "nbformat": 4,
 "nbformat_minor": 2
}
